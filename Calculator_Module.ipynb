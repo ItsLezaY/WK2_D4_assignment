{
 "cells": [
  {
   "cell_type": "code",
   "execution_count": 5,
   "id": "b61f4977-a805-4697-98a9-010c4095bde5",
   "metadata": {},
   "outputs": [
    {
     "name": "stdout",
     "output_type": "stream",
     "text": [
      "\tHello, please select your choice:\n",
      "\n",
      "\n",
      "1 - Calculate square footage of a house.\n",
      "\n",
      "\n",
      "2 - Calculate circumference of a circle.\n",
      "\n"
     ]
    },
    {
     "name": "stdin",
     "output_type": "stream",
     "text": [
      "Enter your choice: \n",
      " 1\n",
      "\n",
      "Enter length of house:  485\n",
      "\n",
      "Enter width of house:  687\n"
     ]
    },
    {
     "name": "stdout",
     "output_type": "stream",
     "text": [
      "\n",
      "The square footage of the house is: 333195.00 square units\n"
     ]
    }
   ],
   "source": [
    "import module\n",
    "\n",
    "module.calculator_module()"
   ]
  },
  {
   "cell_type": "code",
   "execution_count": null,
   "id": "5b44d617-6afb-403e-8450-67be12952b44",
   "metadata": {},
   "outputs": [],
   "source": []
  }
 ],
 "metadata": {
  "kernelspec": {
   "display_name": "Python 3 (ipykernel)",
   "language": "python",
   "name": "python3"
  },
  "language_info": {
   "codemirror_mode": {
    "name": "ipython",
    "version": 3
   },
   "file_extension": ".py",
   "mimetype": "text/x-python",
   "name": "python",
   "nbconvert_exporter": "python",
   "pygments_lexer": "ipython3",
   "version": "3.10.9"
  }
 },
 "nbformat": 4,
 "nbformat_minor": 5
}
